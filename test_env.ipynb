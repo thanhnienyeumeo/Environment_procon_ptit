{
 "cells": [
  {
   "cell_type": "code",
   "execution_count": 1,
   "metadata": {},
   "outputs": [],
   "source": [
    "import numpy as np\n",
    "import matplotlib.pyplot as plt\n",
    "import gym\n",
    "import pygame\n"
   ]
  },
  {
   "cell_type": "code",
   "execution_count": 2,
   "metadata": {},
   "outputs": [],
   "source": [
    "from game import Game"
   ]
  },
  {
   "cell_type": "code",
   "execution_count": 3,
   "metadata": {},
   "outputs": [],
   "source": [
    "n = 32\n",
    "m = 32\n",
    "cell_size = 20\n",
    "game = Game(m , n ,cell_size)\n"
   ]
  },
  {
   "cell_type": "code",
   "execution_count": 4,
   "metadata": {},
   "outputs": [
    {
     "name": "stdout",
     "output_type": "stream",
     "text": [
      "[[1 0 2 ... 1 1 1]\n",
      " [1 2 0 ... 1 3 3]\n",
      " [3 2 3 ... 3 0 2]\n",
      " ...\n",
      " [3 0 0 ... 3 1 0]\n",
      " [3 2 3 ... 3 1 1]\n",
      " [1 0 1 ... 3 3 2]]\n"
     ]
    }
   ],
   "source": [
    "print(game.grid.board)"
   ]
  },
  {
   "cell_type": "code",
   "execution_count": 5,
   "metadata": {},
   "outputs": [
    {
     "name": "stdout",
     "output_type": "stream",
     "text": [
      "26112099\n"
     ]
    }
   ],
   "source": [
    "action = game.convert_back(255, 255, 3, 24)\n",
    "print(action)"
   ]
  },
  {
   "cell_type": "code",
   "execution_count": 6,
   "metadata": {},
   "outputs": [
    {
     "name": "stdout",
     "output_type": "stream",
     "text": [
      "255 255 3 24\n",
      "[[2 2 1 ... 3 0 2]\n",
      " [0 2 2 ... 1 2 0]\n",
      " [0 1 3 ... 0 1 3]\n",
      " ...\n",
      " [2 0 0 ... 3 1 2]\n",
      " [3 2 2 ... 3 0 2]\n",
      " [0 3 2 ... 0 2 3]]\n"
     ]
    }
   ],
   "source": [
    "\n",
    "state, reward, done, _ = game.step(action)\n",
    "print(game.grid.board)"
   ]
  },
  {
   "cell_type": "code",
   "execution_count": 7,
   "metadata": {},
   "outputs": [
    {
     "name": "stdout",
     "output_type": "stream",
     "text": [
      "0.0013123359580052493\n"
     ]
    }
   ],
   "source": [
    "print(reward)"
   ]
  },
  {
   "cell_type": "code",
   "execution_count": 5,
   "metadata": {},
   "outputs": [
    {
     "name": "stdout",
     "output_type": "stream",
     "text": [
      "2016285\n"
     ]
    }
   ],
   "source": [
    "dict = []\n",
    "for b in range(25):\n",
    "    sz = int((b-1)/3+1)\n",
    "    sz = 2 ** (sz)\n",
    "    print(sz)\n",
    "    for a in range(3):  \n",
    "        for x in range(-sz + 1,256):\n",
    "            for y in range(-sz + 1,256):\n",
    "                        dict.append([x, y, a, b])\n",
    "print(len(dict))\n",
    "                "
   ]
  },
  {
   "cell_type": "code",
   "execution_count": 7,
   "metadata": {},
   "outputs": [
    {
     "name": "stdout",
     "output_type": "stream",
     "text": [
      "[255, 255, 2, 7]\n"
     ]
    }
   ],
   "source": [
    "print(dict[2016284])"
   ]
  }
 ],
 "metadata": {
  "kernelspec": {
   "display_name": "tetris",
   "language": "python",
   "name": "python3"
  },
  "language_info": {
   "codemirror_mode": {
    "name": "ipython",
    "version": 3
   },
   "file_extension": ".py",
   "mimetype": "text/x-python",
   "name": "python",
   "nbconvert_exporter": "python",
   "pygments_lexer": "ipython3",
   "version": "3.10.0"
  }
 },
 "nbformat": 4,
 "nbformat_minor": 2
}
